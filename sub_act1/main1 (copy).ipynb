{
 "cells": [
  {
   "cell_type": "code",
   "execution_count": 1,
   "metadata": {},
   "outputs": [
    {
     "name": "stderr",
     "output_type": "stream",
     "text": [
      "/Library/Frameworks/Python.framework/Versions/3.8/lib/python3.8/site-packages/tensorflow/python/framework/dtypes.py:469: FutureWarning: Passing (type, 1) or '1type' as a synonym of type is deprecated; in a future version of numpy, it will be understood as (type, (1,)) / '(1,)type'.\n",
      "  _np_qint8 = np.dtype([(\"qint8\", np.int8, 1)])\n",
      "/Library/Frameworks/Python.framework/Versions/3.8/lib/python3.8/site-packages/tensorflow/python/framework/dtypes.py:470: FutureWarning: Passing (type, 1) or '1type' as a synonym of type is deprecated; in a future version of numpy, it will be understood as (type, (1,)) / '(1,)type'.\n",
      "  _np_quint8 = np.dtype([(\"quint8\", np.uint8, 1)])\n",
      "/Library/Frameworks/Python.framework/Versions/3.8/lib/python3.8/site-packages/tensorflow/python/framework/dtypes.py:471: FutureWarning: Passing (type, 1) or '1type' as a synonym of type is deprecated; in a future version of numpy, it will be understood as (type, (1,)) / '(1,)type'.\n",
      "  _np_qint16 = np.dtype([(\"qint16\", np.int16, 1)])\n",
      "/Library/Frameworks/Python.framework/Versions/3.8/lib/python3.8/site-packages/tensorflow/python/framework/dtypes.py:472: FutureWarning: Passing (type, 1) or '1type' as a synonym of type is deprecated; in a future version of numpy, it will be understood as (type, (1,)) / '(1,)type'.\n",
      "  _np_quint16 = np.dtype([(\"quint16\", np.uint16, 1)])\n",
      "/Library/Frameworks/Python.framework/Versions/3.8/lib/python3.8/site-packages/tensorflow/python/framework/dtypes.py:473: FutureWarning: Passing (type, 1) or '1type' as a synonym of type is deprecated; in a future version of numpy, it will be understood as (type, (1,)) / '(1,)type'.\n",
      "  _np_qint32 = np.dtype([(\"qint32\", np.int32, 1)])\n",
      "/Library/Frameworks/Python.framework/Versions/3.8/lib/python3.8/site-packages/tensorflow/python/framework/dtypes.py:476: FutureWarning: Passing (type, 1) or '1type' as a synonym of type is deprecated; in a future version of numpy, it will be understood as (type, (1,)) / '(1,)type'.\n",
      "  np_resource = np.dtype([(\"resource\", np.ubyte, 1)])\n",
      "<frozen importlib._bootstrap>:219: RuntimeWarning: compiletime version 3.5 of module 'tensorflow.python.framework.fast_tensor_util' does not match runtime version 3.8\n",
      "<frozen importlib._bootstrap>:219: RuntimeWarning: builtins.type size changed, may indicate binary incompatibility. Expected 880, got 864\n"
     ]
    }
   ],
   "source": [
    "import pandas as pd\n",
    "import numpy as np\n",
    "import pickle\n",
    "import matplotlib.pyplot as plt\n",
    "from scipy import stats\n",
    "import tensorflow as tf\n",
    "import seaborn as sns\n",
    "from pylab import rcParams\n",
    "from sklearn import metrics\n",
    "\n",
    "from sklearn.model_selection import train_test_split\n",
    "\n",
    "%matplotlib inline\n",
    "\n",
    "#sns.set(style='whitegrid', palette='muted', font_scale=1.5)\n",
    "\n",
    "#rcParams['figure.figsize'] = 14, 8\n",
    "\n",
    "RANDOM_SEED = 42"
   ]
  },
  {
   "cell_type": "code",
   "execution_count": 2,
   "metadata": {},
   "outputs": [],
   "source": [
    "columns = ['x-axis', 'y-axis','z-axis','xg-axis', 'yg-axis','zg-axis','activity']\n",
    "df=pd.read_csv(\"Act1_noise2.csv\",names=columns,skiprows=1)\n"
   ]
  },
  {
   "cell_type": "code",
   "execution_count": 3,
   "metadata": {},
   "outputs": [
    {
     "data": {
      "text/html": [
       "<div>\n",
       "<style scoped>\n",
       "    .dataframe tbody tr th:only-of-type {\n",
       "        vertical-align: middle;\n",
       "    }\n",
       "\n",
       "    .dataframe tbody tr th {\n",
       "        vertical-align: top;\n",
       "    }\n",
       "\n",
       "    .dataframe thead th {\n",
       "        text-align: right;\n",
       "    }\n",
       "</style>\n",
       "<table border=\"1\" class=\"dataframe\">\n",
       "  <thead>\n",
       "    <tr style=\"text-align: right;\">\n",
       "      <th></th>\n",
       "      <th>x-axis</th>\n",
       "      <th>y-axis</th>\n",
       "      <th>z-axis</th>\n",
       "      <th>xg-axis</th>\n",
       "      <th>yg-axis</th>\n",
       "      <th>zg-axis</th>\n",
       "      <th>activity</th>\n",
       "    </tr>\n",
       "  </thead>\n",
       "  <tbody>\n",
       "    <tr>\n",
       "      <th>0</th>\n",
       "      <td>1.0000</td>\n",
       "      <td>2.0000</td>\n",
       "      <td>3.0000</td>\n",
       "      <td>4.0000</td>\n",
       "      <td>5.0000</td>\n",
       "      <td>6.0000</td>\n",
       "      <td>1</td>\n",
       "    </tr>\n",
       "    <tr>\n",
       "      <th>1</th>\n",
       "      <td>0.0934</td>\n",
       "      <td>-0.1225</td>\n",
       "      <td>0.7399</td>\n",
       "      <td>37.8049</td>\n",
       "      <td>-152.7439</td>\n",
       "      <td>-26.8902</td>\n",
       "      <td>1</td>\n",
       "    </tr>\n",
       "    <tr>\n",
       "      <th>2</th>\n",
       "      <td>0.1689</td>\n",
       "      <td>-0.0379</td>\n",
       "      <td>0.9245</td>\n",
       "      <td>45.0610</td>\n",
       "      <td>-147.9878</td>\n",
       "      <td>-25.7317</td>\n",
       "      <td>1</td>\n",
       "    </tr>\n",
       "    <tr>\n",
       "      <th>3</th>\n",
       "      <td>0.2049</td>\n",
       "      <td>0.0226</td>\n",
       "      <td>1.0523</td>\n",
       "      <td>53.5366</td>\n",
       "      <td>-134.3902</td>\n",
       "      <td>-27.1341</td>\n",
       "      <td>1</td>\n",
       "    </tr>\n",
       "    <tr>\n",
       "      <th>4</th>\n",
       "      <td>0.2417</td>\n",
       "      <td>0.0170</td>\n",
       "      <td>1.1290</td>\n",
       "      <td>53.2317</td>\n",
       "      <td>-117.6829</td>\n",
       "      <td>-25.9146</td>\n",
       "      <td>1</td>\n",
       "    </tr>\n",
       "    <tr>\n",
       "      <th>...</th>\n",
       "      <td>...</td>\n",
       "      <td>...</td>\n",
       "      <td>...</td>\n",
       "      <td>...</td>\n",
       "      <td>...</td>\n",
       "      <td>...</td>\n",
       "      <td>...</td>\n",
       "    </tr>\n",
       "    <tr>\n",
       "      <th>61202</th>\n",
       "      <td>-0.7471</td>\n",
       "      <td>-0.2786</td>\n",
       "      <td>0.5436</td>\n",
       "      <td>-7.0732</td>\n",
       "      <td>-9.2683</td>\n",
       "      <td>-17.9878</td>\n",
       "      <td>2</td>\n",
       "    </tr>\n",
       "    <tr>\n",
       "      <th>61203</th>\n",
       "      <td>-0.7456</td>\n",
       "      <td>-0.2745</td>\n",
       "      <td>0.5353</td>\n",
       "      <td>-2.3780</td>\n",
       "      <td>-6.2805</td>\n",
       "      <td>-14.5732</td>\n",
       "      <td>2</td>\n",
       "    </tr>\n",
       "    <tr>\n",
       "      <th>61204</th>\n",
       "      <td>-0.7316</td>\n",
       "      <td>-0.2733</td>\n",
       "      <td>0.5357</td>\n",
       "      <td>-2.9268</td>\n",
       "      <td>-6.5244</td>\n",
       "      <td>-11.5854</td>\n",
       "      <td>2</td>\n",
       "    </tr>\n",
       "    <tr>\n",
       "      <th>61205</th>\n",
       "      <td>-0.7307</td>\n",
       "      <td>-0.2755</td>\n",
       "      <td>0.5414</td>\n",
       "      <td>-2.6220</td>\n",
       "      <td>-7.9268</td>\n",
       "      <td>-9.7561</td>\n",
       "      <td>2</td>\n",
       "    </tr>\n",
       "    <tr>\n",
       "      <th>61206</th>\n",
       "      <td>-0.7404</td>\n",
       "      <td>-0.2918</td>\n",
       "      <td>0.5357</td>\n",
       "      <td>-0.9146</td>\n",
       "      <td>-8.9024</td>\n",
       "      <td>-9.1463</td>\n",
       "      <td>2</td>\n",
       "    </tr>\n",
       "  </tbody>\n",
       "</table>\n",
       "<p>61207 rows × 7 columns</p>\n",
       "</div>"
      ],
      "text/plain": [
       "       x-axis  y-axis  z-axis  xg-axis   yg-axis  zg-axis  activity\n",
       "0      1.0000  2.0000  3.0000   4.0000    5.0000   6.0000         1\n",
       "1      0.0934 -0.1225  0.7399  37.8049 -152.7439 -26.8902         1\n",
       "2      0.1689 -0.0379  0.9245  45.0610 -147.9878 -25.7317         1\n",
       "3      0.2049  0.0226  1.0523  53.5366 -134.3902 -27.1341         1\n",
       "4      0.2417  0.0170  1.1290  53.2317 -117.6829 -25.9146         1\n",
       "...       ...     ...     ...      ...       ...      ...       ...\n",
       "61202 -0.7471 -0.2786  0.5436  -7.0732   -9.2683 -17.9878         2\n",
       "61203 -0.7456 -0.2745  0.5353  -2.3780   -6.2805 -14.5732         2\n",
       "61204 -0.7316 -0.2733  0.5357  -2.9268   -6.5244 -11.5854         2\n",
       "61205 -0.7307 -0.2755  0.5414  -2.6220   -7.9268  -9.7561         2\n",
       "61206 -0.7404 -0.2918  0.5357  -0.9146   -8.9024  -9.1463         2\n",
       "\n",
       "[61207 rows x 7 columns]"
      ]
     },
     "execution_count": 3,
     "metadata": {},
     "output_type": "execute_result"
    }
   ],
   "source": [
    "df"
   ]
  },
  {
   "cell_type": "code",
   "execution_count": 4,
   "metadata": {},
   "outputs": [
    {
     "data": {
      "text/plain": [
       "'1.4.0'"
      ]
     },
     "execution_count": 4,
     "metadata": {},
     "output_type": "execute_result"
    }
   ],
   "source": [
    "tf.__version__"
   ]
  },
  {
   "cell_type": "code",
   "execution_count": null,
   "metadata": {},
   "outputs": [],
   "source": []
  },
  {
   "cell_type": "code",
   "execution_count": 5,
   "metadata": {},
   "outputs": [
    {
     "data": {
      "text/plain": [
       "(61207, 7)"
      ]
     },
     "execution_count": 5,
     "metadata": {},
     "output_type": "execute_result"
    }
   ],
   "source": [
    "df.shape"
   ]
  },
  {
   "cell_type": "code",
   "execution_count": 6,
   "metadata": {},
   "outputs": [
    {
     "data": {
      "image/png": "[encoded data removed]",
      "text/plain": [
       "<Figure size 432x288 with 1 Axes>"
      ]
     },
     "metadata": {
      "needs_background": "light"
     },
     "output_type": "display_data"
    }
   ],
   "source": [
    "df['activity'].value_counts().plot(kind='bar', title='Training examples by activity type');"
   ]
  },
  {
   "cell_type": "code",
   "execution_count": 7,
   "metadata": {},
   "outputs": [],
   "source": [
    "N_TIME_STEPS = 500\n",
    "N_FEATURES = 6\n",
    "step = 100\n",
    "segments = []\n",
    "labels = []\n",
    "for i in range(0, len(df) - N_TIME_STEPS, step):\n",
    "    xs = df['x-axis'].values[i: i + N_TIME_STEPS]\n",
    "    ys = df['y-axis'].values[i: i + N_TIME_STEPS]\n",
    "    zs = df['z-axis'].values[i: i + N_TIME_STEPS]\n",
    "    xsg = df['xg-axis'].values[i: i + N_TIME_STEPS]\n",
    "    ysg = df['yg-axis'].values[i: i + N_TIME_STEPS]\n",
    "    zsg = df['zg-axis'].values[i: i + N_TIME_STEPS]\n",
    "    label = stats.mode(df['activity'][i: i + N_TIME_STEPS])[0][0]\n",
    "    #print label\n",
    "    segments.append([xs, ys, zs, xsg, ysg, zsg])\n",
    "    labels.append(label)\n",
    "    #print labels"
   ]
  },
  {
   "cell_type": "code",
   "execution_count": 8,
   "metadata": {},
   "outputs": [],
   "source": [
    "reshaped_segments = np.asarray(segments, dtype= np.float32).reshape(-1, N_TIME_STEPS, N_FEATURES)\n",
    "labels = np.asarray(pd.get_dummies(labels), dtype = np.float32)"
   ]
  },
  {
   "cell_type": "code",
   "execution_count": 9,
   "metadata": {},
   "outputs": [
    {
     "data": {
      "text/plain": [
       "(608, 500, 6)"
      ]
     },
     "execution_count": 9,
     "metadata": {},
     "output_type": "execute_result"
    }
   ],
   "source": [
    "reshaped_segments.shape"
   ]
  },
  {
   "cell_type": "code",
   "execution_count": 10,
   "metadata": {},
   "outputs": [],
   "source": [
    "X_train, X_test, y_train, y_test = train_test_split(\n",
    "        reshaped_segments, labels, test_size=0.2, random_state=RANDOM_SEED)"
   ]
  },
  {
   "cell_type": "code",
   "execution_count": 11,
   "metadata": {},
   "outputs": [
    {
     "data": {
      "text/plain": [
       "(486, 500, 6)"
      ]
     },
     "execution_count": 11,
     "metadata": {},
     "output_type": "execute_result"
    }
   ],
   "source": [
    "X_train.shape"
   ]
  },
  {
   "cell_type": "code",
   "execution_count": 12,
   "metadata": {},
   "outputs": [
    {
     "data": {
      "text/plain": [
       "(122, 500, 6)"
      ]
     },
     "execution_count": 12,
     "metadata": {},
     "output_type": "execute_result"
    }
   ],
   "source": [
    "X_test.shape"
   ]
  },
  {
   "cell_type": "code",
   "execution_count": 13,
   "metadata": {},
   "outputs": [],
   "source": [
    "#y_test"
   ]
  },
  {
   "cell_type": "code",
   "execution_count": 14,
   "metadata": {},
   "outputs": [],
   "source": [
    "N_CLASSES = 2\n",
    "N_HIDDEN_UNITS = 64"
   ]
  },
  {
   "cell_type": "code",
   "execution_count": 15,
   "metadata": {},
   "outputs": [],
   "source": [
    "def create_LSTM_model(inputs):\n",
    "    W = {\n",
    "        'hidden': tf.Variable(tf.random_normal([N_FEATURES, N_HIDDEN_UNITS])),\n",
    "        'output': tf.Variable(tf.random_normal([N_HIDDEN_UNITS, N_CLASSES]))\n",
    "    }\n",
    "    biases = {\n",
    "        'hidden': tf.Variable(tf.random_normal([N_HIDDEN_UNITS], mean=1.0)),\n",
    "        'output': tf.Variable(tf.random_normal([N_CLASSES]))\n",
    "    }\n",
    "    \n",
    "    X = tf.transpose(inputs, [1, 0, 2])\n",
    "    X = tf.reshape(X, [-1, N_FEATURES])\n",
    "    hidden = tf.nn.relu(tf.matmul(X, W['hidden']) + biases['hidden'])\n",
    "    hidden =tf.split(hidden, N_TIME_STEPS, 0)\n",
    "\n",
    "    # Stack 2 LSTM layers\n",
    "    \n",
    "    lstm_layers = [tf.contrib.rnn.BasicLSTMCell(N_HIDDEN_UNITS, forget_bias=1.0) for _ in range(2)]\n",
    "    lstm_layers = tf.contrib.rnn.MultiRNNCell(lstm_layers)\n",
    "\n",
    "    outputs, _ = tf.contrib.rnn.static_rnn(lstm_layers, hidden, dtype=tf.float32)\n",
    "\n",
    "    # Get output for the last time step\n",
    "    lstm_last_output = outputs[-1]\n",
    "\n",
    "    return tf.matmul(lstm_last_output, W['output']) + biases['output']"
   ]
  },
  {
   "cell_type": "code",
   "execution_count": 16,
   "metadata": {},
   "outputs": [],
   "source": [
    "#tf.reset_default_graph()\n",
    "\n",
    "X = tf.placeholder(tf.float32, [None, N_TIME_STEPS, N_FEATURES], name=\"input\")\n",
    "Y = tf.placeholder(tf.float32, [None, N_CLASSES])"
   ]
  },
  {
   "cell_type": "code",
   "execution_count": 17,
   "metadata": {},
   "outputs": [],
   "source": [
    "pred_Y = create_LSTM_model(X)\n",
    "\n",
    "pred_softmax = tf.nn.softmax(pred_Y, name=\"y_\")"
   ]
  },
  {
   "cell_type": "code",
   "execution_count": 18,
   "metadata": {},
   "outputs": [],
   "source": [
    "L2_LOSS = 0.0015\n",
    "\n",
    "l2 = L2_LOSS * \\\n",
    "    sum(tf.nn.l2_loss(tf_var) for tf_var in tf.trainable_variables())\n",
    "\n",
    "loss = tf.reduce_mean(tf.nn.softmax_cross_entropy_with_logits(logits = pred_Y, labels = Y)) + l2"
   ]
  },
  {
   "cell_type": "code",
   "execution_count": 19,
   "metadata": {},
   "outputs": [],
   "source": [
    "LEARNING_RATE = 0.00025\n",
    "optimizer = tf.train.AdamOptimizer(learning_rate=LEARNING_RATE).minimize(loss)\n",
    "\n",
    "correct_pred = tf.equal(tf.argmax(pred_softmax, 1), tf.argmax(Y, 1))\n",
    "accuracy = tf.reduce_mean(tf.cast(correct_pred, dtype=tf.float32))"
   ]
  },
  {
   "cell_type": "code",
   "execution_count": 20,
   "metadata": {},
   "outputs": [],
   "source": [
    "N_EPOCHS = 40\n",
    "BATCH_SIZE = 128"
   ]
  },
  {
   "cell_type": "code",
   "execution_count": 21,
   "metadata": {},
   "outputs": [
    {
     "name": "stdout",
     "output_type": "stream",
     "text": [
      "epoch 1:  test accuracy: 0.6803279 loss:1.4047714\n",
      "epoch 2:  test accuracy: 0.6639344 loss:1.379606\n",
      "epoch 3:  test accuracy: 0.72131145 loss:1.3356459\n",
      "epoch 4:  test accuracy: 0.73770493 loss:1.3248844\n",
      "epoch 5:  test accuracy: 0.72131145 loss:1.3200016\n",
      "epoch 6:  test accuracy: 0.71311474 loss:1.3258638\n",
      "epoch 7:  test accuracy: 0.72131145 loss:1.3193716\n",
      "epoch 8:  test accuracy: 0.7295082 loss:1.3142917\n",
      "epoch 9:  test accuracy: 0.73770493 loss:1.3157892\n",
      "epoch 10:  test accuracy: 0.72131145 loss:1.3196415\n",
      "epoch 11:  test accuracy: 0.71311474 loss:1.3158666\n",
      "epoch 12:  test accuracy: 0.7295082 loss:1.3053786\n",
      "epoch 13:  test accuracy: 0.72131145 loss:1.3007888\n",
      "epoch 14:  test accuracy: 0.6967213 loss:1.2998278\n",
      "epoch 15:  test accuracy: 0.704918 loss:1.2959158\n",
      "epoch 16:  test accuracy: 0.71311474 loss:1.2896143\n",
      "epoch 17:  test accuracy: 0.71311474 loss:1.2847815\n",
      "epoch 18:  test accuracy: 0.72131145 loss:1.279408\n",
      "epoch 19:  test accuracy: 0.7295082 loss:1.2725883\n",
      "epoch 20:  test accuracy: 0.72131145 loss:1.2767115\n",
      "epoch 21:  test accuracy: 0.72131145 loss:1.271477\n",
      "epoch 22:  test accuracy: 0.72131145 loss:1.2671149\n",
      "epoch 23:  test accuracy: 0.74590164 loss:1.262361\n",
      "epoch 24:  test accuracy: 0.75409836 loss:1.2672343\n",
      "epoch 25:  test accuracy: 0.75409836 loss:1.2713953\n",
      "epoch 26:  test accuracy: 0.76229507 loss:1.2724106\n",
      "epoch 27:  test accuracy: 0.75409836 loss:1.2688452\n",
      "epoch 28:  test accuracy: 0.7704918 loss:1.2679106\n",
      "epoch 29:  test accuracy: 0.7704918 loss:1.2673582\n",
      "epoch 30:  test accuracy: 0.76229507 loss:1.2692161\n",
      "epoch 31:  test accuracy: 0.75409836 loss:1.2661548\n",
      "epoch 32:  test accuracy: 0.75409836 loss:1.2626958\n",
      "epoch 33:  test accuracy: 0.7704918 loss:1.2588573\n",
      "epoch 34:  test accuracy: 0.77868855 loss:1.2550712\n",
      "epoch 35:  test accuracy: 0.77868855 loss:1.2496036\n",
      "epoch 36:  test accuracy: 0.77868855 loss:1.2411966\n",
      "epoch 37:  test accuracy: 0.8032787 loss:1.2304456\n",
      "epoch 38:  test accuracy: 0.8360656 loss:1.2196922\n",
      "epoch 39:  test accuracy: 0.8360656 loss:1.2064029\n",
      "epoch 40:  test accuracy: 0.8442623 loss:1.1937109\n",
      "final results: accuracy:   0.8442623\tloss:  1.1937109\n"
     ]
    }
   ],
   "source": [
    "saver = tf.train.Saver()\n",
    "\n",
    "history = dict(train_loss=[], \n",
    "                     train_acc=[], \n",
    "                     test_loss=[], \n",
    "                     test_acc=[])\n",
    "\n",
    "sess=tf.InteractiveSession()\n",
    "sess.run(tf.global_variables_initializer())\n",
    "\n",
    "train_count = len(X_train)\n",
    "\n",
    "for i in range(1, N_EPOCHS + 1):\n",
    "    for start, end in zip(range(0, train_count, BATCH_SIZE),\n",
    "                          range(BATCH_SIZE, train_count + 1,BATCH_SIZE)):\n",
    "        sess.run(optimizer, feed_dict={X: X_train[start:end],\n",
    "                                       Y: y_train[start:end]})\n",
    "\n",
    "    _, acc_train, loss_train = sess.run([pred_softmax, accuracy, loss], feed_dict={\n",
    "                                            X: X_train, Y: y_train})\n",
    "\n",
    "    _, acc_test, loss_test = sess.run([pred_softmax, accuracy, loss], feed_dict={\n",
    "                                            X: X_test, Y: y_test})\n",
    "\n",
    "    history['train_loss'].append(loss_train)\n",
    "    history['train_acc'].append(acc_train)\n",
    "    history['test_loss'].append(loss_test)\n",
    "    history['test_acc'].append(acc_test)\n",
    "    #if i != 1 and i % 10 != 0:\n",
    "        #continue\n",
    "\n",
    "    print(\"epoch \" + str(i) + \":  \"+ \"test accuracy:\" + \" \" + str(acc_test) + \" \" + \"loss:\" + str(loss_test))\n",
    "    \n",
    "predictions, acc_final, loss_final = sess.run([pred_softmax, accuracy, loss], feed_dict={X: X_test, Y: y_test})\n",
    "\n",
    "#print()\n",
    "print(\"final results: accuracy:   \" + str(acc_final) + \"\\t\" +  \"loss:  \" +str(loss_final))"
   ]
  },
  {
   "cell_type": "code",
   "execution_count": 22,
   "metadata": {},
   "outputs": [],
   "source": [
    "#predictions"
   ]
  },
  {
   "cell_type": "code",
   "execution_count": 23,
   "metadata": {},
   "outputs": [],
   "source": [
    "pickle.dump(predictions, open(\"predictions_act1.p\", \"wb\"))\n",
    "pickle.dump(history, open(\"history_act1.p\", \"wb\"))\n",
    "tf.train.write_graph(sess.graph_def, '.', './checkpoint/activity_1.pbtxt')  \n",
    "saver.save(sess, save_path = \"./checkpoint/activity_1.ckpt\")\n",
    "sess.close()"
   ]
  },
  {
   "cell_type": "code",
   "execution_count": 24,
   "metadata": {},
   "outputs": [],
   "source": [
    "history = pickle.load(open(\"history_act1.p\", \"rb\"))\n",
    "predictions = pickle.load(open(\"predictions_act1.p\", \"rb\"))"
   ]
  },
  {
   "cell_type": "code",
   "execution_count": 25,
   "metadata": {},
   "outputs": [
    {
     "data": {
      "image/png": "[encoded data removed]",
      "text/plain": [
       "<Figure size 864x576 with 1 Axes>"
      ]
     },
     "metadata": {
      "needs_background": "light"
     },
     "output_type": "display_data"
    }
   ],
   "source": [
    "plt.figure(figsize=(12, 8))\n",
    "\n",
    "plt.plot(np.array(history['train_loss']), \"r--\", label=\"Train loss\")\n",
    "plt.plot(np.array(history['train_acc']), \"g--\", label=\"Train accuracy\")\n",
    "\n",
    "plt.plot(np.array(history['test_loss']), \"r-\", label=\"Test loss\")\n",
    "plt.plot(np.array(history['test_acc']), \"g-\", label=\"Test accuracy\")\n",
    "\n",
    "plt.title(\"Training session's progress over iterations\")\n",
    "plt.legend(loc='upper right', shadow=True)\n",
    "plt.ylabel('Training Progress (Loss or Accuracy values)')\n",
    "plt.xlabel('Training Epoch')\n",
    "plt.ylim(0)\n",
    "\n",
    "plt.show()"
   ]
  },
  {
   "cell_type": "code",
   "execution_count": 26,
   "metadata": {},
   "outputs": [],
   "source": [
    "#activity\n",
    "LABELS = [1,2]"
   ]
  },
  {
   "cell_type": "code",
   "execution_count": 27,
   "metadata": {},
   "outputs": [],
   "source": [
    "from sklearn.metrics import confusion_matrix \n",
    "from sklearn.metrics import accuracy_score \n",
    "from sklearn.metrics import classification_report"
   ]
  },
  {
   "cell_type": "code",
   "execution_count": 28,
   "metadata": {},
   "outputs": [],
   "source": [
    "#max_test = np.argmax(y_test, axis=1)\n",
    "#ls = list(max_test)\n",
    "#ls\n"
   ]
  },
  {
   "cell_type": "code",
   "execution_count": 29,
   "metadata": {},
   "outputs": [
    {
     "name": "stdout",
     "output_type": "stream",
     "text": [
      "[0, 0, 0, 0, 1, 0, 1, 0, 0, 0, 0, 1, 0, 0, 0, 0, 0, 1, 0, 1, 0, 0, 0, 0, 0, 1, 0, 0, 0, 0, 0, 0, 0, 0, 1, 1, 1, 0, 0, 0, 0, 0, 0, 0, 0, 0, 1, 1, 0, 1, 0, 0, 1, 1, 1, 1, 0, 1, 0, 0, 1, 0, 0, 0, 0, 0, 0, 1, 0, 1, 1, 0, 0, 1, 0, 0, 0, 0, 0, 0, 0, 0, 1, 0, 1, 0, 0, 1, 0, 0, 0, 0, 0, 0, 1, 0, 0, 0, 0, 1, 0, 0, 0, 0, 0, 0, 0, 1, 1, 0, 0, 0, 0, 1, 0, 0, 0, 0, 0, 0, 1, 0]\n",
      "122\n",
      "[0, 0, 0, 0, 0, 0, 1, 0, 0, 0, 0, 0, 0, 0, 0, 0, 0, 1, 0, 1, 1, 0, 0, 0, 1, 1, 0, 0, 0, 0, 0, 0, 0, 0, 0, 1, 0, 0, 0, 0, 0, 0, 0, 0, 0, 0, 1, 1, 0, 1, 0, 0, 1, 1, 0, 0, 1, 1, 0, 1, 0, 0, 0, 0, 0, 0, 0, 1, 0, 0, 1, 0, 0, 1, 0, 0, 0, 0, 0, 0, 0, 0, 1, 1, 1, 0, 0, 1, 0, 0, 0, 0, 0, 0, 0, 0, 0, 0, 0, 1, 0, 0, 0, 0, 0, 0, 1, 1, 0, 0, 0, 0, 0, 1, 0, 0, 0, 0, 1, 0, 0, 1]\n",
      "122\n"
     ]
    },
    {
     "data": {
      "text/plain": [
       "array([[83,  8],\n",
       "       [11, 20]])"
      ]
     },
     "execution_count": 29,
     "metadata": {},
     "output_type": "execute_result"
    }
   ],
   "source": [
    "max_test = np.argmax(y_test, axis=1)\n",
    "max_predictions = np.argmax(predictions, axis=1)\n",
    "\n",
    "max_test1 = max_test.tolist()\n",
    "print (max_test1)\n",
    "print (len(max_test1))\n",
    "max_predictions1 = max_predictions.tolist()\n",
    "print(max_predictions1)\n",
    "print(len(max_predictions1))\n",
    "\n",
    "confusion_matrix(max_test1, max_predictions1)\n"
   ]
  },
  {
   "cell_type": "code",
   "execution_count": 30,
   "metadata": {},
   "outputs": [],
   "source": [
    "def data_reshaping(df):\n",
    "    #df['activity'].value_counts().plot(kind='bar', title='Testing examples by activity type');\n",
    "    N_TIME_STEPS = 500\n",
    "    N_FEATURES = 6\n",
    "    step = 100\n",
    "    segments = []\n",
    "    test_labels = []\n",
    "    for i in range(0, len(df) - N_TIME_STEPS, step):\n",
    "        xs = df['x-axis'].values[i: i + N_TIME_STEPS]\n",
    "        ys = df['y-axis'].values[i: i + N_TIME_STEPS]\n",
    "        zs = df['z-axis'].values[i: i + N_TIME_STEPS]\n",
    "        xsg = df['xg-axis'].values[i: i + N_TIME_STEPS]\n",
    "        ysg = df['yg-axis'].values[i: i + N_TIME_STEPS]\n",
    "        zsg = df['zg-axis'].values[i: i + N_TIME_STEPS]\n",
    "        \n",
    "        label = stats.mode(df['activity'][i: i + N_TIME_STEPS])[0][0]\n",
    "        segments.append([xs, ys, zs, xsg, ysg,zsg])\n",
    "        test_labels.append(label)\n",
    "    #print test_labels\n",
    "    reshaped_segments = np.asarray(segments, dtype= np.float32).reshape(-1, N_TIME_STEPS, N_FEATURES)\n",
    "    #test_labels = np.asarray(pd.get_dummies(test_labels), dtype = np.float32)\n",
    "    #X_train, X_test, y_train, y_test = train_test_split(\n",
    "        #reshaped_segments, test_labels, test_size=0.99, random_state=RANDOM_SEED)\n",
    "    X_test = reshaped_segments\n",
    "    y_test = test_labels\n",
    "    \n",
    "    #print test_labels\n",
    "    return X_test, y_test\n",
    "    "
   ]
  },
  {
   "cell_type": "code",
   "execution_count": 33,
   "metadata": {},
   "outputs": [
    {
     "data": {
      "text/html": [
       "<div>\n",
       "<style scoped>\n",
       "    .dataframe tbody tr th:only-of-type {\n",
       "        vertical-align: middle;\n",
       "    }\n",
       "\n",
       "    .dataframe tbody tr th {\n",
       "        vertical-align: top;\n",
       "    }\n",
       "\n",
       "    .dataframe thead th {\n",
       "        text-align: right;\n",
       "    }\n",
       "</style>\n",
       "<table border=\"1\" class=\"dataframe\">\n",
       "  <thead>\n",
       "    <tr style=\"text-align: right;\">\n",
       "      <th></th>\n",
       "      <th>ep</th>\n",
       "      <th>x-axis</th>\n",
       "      <th>y-axis</th>\n",
       "      <th>z-axis</th>\n",
       "      <th>xg-axis</th>\n",
       "      <th>yg-axis</th>\n",
       "      <th>zg-axis</th>\n",
       "    </tr>\n",
       "  </thead>\n",
       "  <tbody>\n",
       "    <tr>\n",
       "      <th>0</th>\n",
       "      <td>1.574147e+12</td>\n",
       "      <td>0.1182</td>\n",
       "      <td>-0.0387</td>\n",
       "      <td>0.0507</td>\n",
       "      <td>-2.3171</td>\n",
       "      <td>-2.6220</td>\n",
       "      <td>0.3659</td>\n",
       "    </tr>\n",
       "    <tr>\n",
       "      <th>1</th>\n",
       "      <td>1.574147e+12</td>\n",
       "      <td>0.1204</td>\n",
       "      <td>-0.0432</td>\n",
       "      <td>0.0462</td>\n",
       "      <td>-5.4878</td>\n",
       "      <td>-8.1707</td>\n",
       "      <td>-0.3049</td>\n",
       "    </tr>\n",
       "    <tr>\n",
       "      <th>2</th>\n",
       "      <td>1.574147e+12</td>\n",
       "      <td>0.1194</td>\n",
       "      <td>-0.0455</td>\n",
       "      <td>0.0406</td>\n",
       "      <td>-7.9878</td>\n",
       "      <td>-15.1220</td>\n",
       "      <td>-0.2439</td>\n",
       "    </tr>\n",
       "    <tr>\n",
       "      <th>3</th>\n",
       "      <td>1.574147e+12</td>\n",
       "      <td>0.1161</td>\n",
       "      <td>-0.0449</td>\n",
       "      <td>0.0385</td>\n",
       "      <td>-9.8780</td>\n",
       "      <td>-24.9390</td>\n",
       "      <td>0.2439</td>\n",
       "    </tr>\n",
       "    <tr>\n",
       "      <th>4</th>\n",
       "      <td>1.574147e+12</td>\n",
       "      <td>0.1133</td>\n",
       "      <td>-0.0428</td>\n",
       "      <td>0.0389</td>\n",
       "      <td>-12.1951</td>\n",
       "      <td>-36.5244</td>\n",
       "      <td>-0.8537</td>\n",
       "    </tr>\n",
       "    <tr>\n",
       "      <th>...</th>\n",
       "      <td>...</td>\n",
       "      <td>...</td>\n",
       "      <td>...</td>\n",
       "      <td>...</td>\n",
       "      <td>...</td>\n",
       "      <td>...</td>\n",
       "      <td>...</td>\n",
       "    </tr>\n",
       "    <tr>\n",
       "      <th>1352</th>\n",
       "      <td>1.574147e+12</td>\n",
       "      <td>0.0840</td>\n",
       "      <td>-0.0642</td>\n",
       "      <td>0.0568</td>\n",
       "      <td>-36.4634</td>\n",
       "      <td>26.3415</td>\n",
       "      <td>-30.4878</td>\n",
       "    </tr>\n",
       "    <tr>\n",
       "      <th>1353</th>\n",
       "      <td>1.574147e+12</td>\n",
       "      <td>0.0720</td>\n",
       "      <td>-0.0662</td>\n",
       "      <td>0.0507</td>\n",
       "      <td>-37.1341</td>\n",
       "      <td>25.3049</td>\n",
       "      <td>-38.6585</td>\n",
       "    </tr>\n",
       "    <tr>\n",
       "      <th>1354</th>\n",
       "      <td>1.574147e+12</td>\n",
       "      <td>0.0619</td>\n",
       "      <td>-0.0633</td>\n",
       "      <td>0.0438</td>\n",
       "      <td>-37.9878</td>\n",
       "      <td>16.8902</td>\n",
       "      <td>-45.1220</td>\n",
       "    </tr>\n",
       "    <tr>\n",
       "      <th>1355</th>\n",
       "      <td>1.574147e+12</td>\n",
       "      <td>0.0715</td>\n",
       "      <td>-0.0527</td>\n",
       "      <td>0.0441</td>\n",
       "      <td>-34.5732</td>\n",
       "      <td>12.5000</td>\n",
       "      <td>-51.0976</td>\n",
       "    </tr>\n",
       "    <tr>\n",
       "      <th>1356</th>\n",
       "      <td>1.574147e+12</td>\n",
       "      <td>0.0916</td>\n",
       "      <td>-0.0512</td>\n",
       "      <td>0.0505</td>\n",
       "      <td>-30.3049</td>\n",
       "      <td>7.4390</td>\n",
       "      <td>-48.5976</td>\n",
       "    </tr>\n",
       "  </tbody>\n",
       "</table>\n",
       "<p>1357 rows × 7 columns</p>\n",
       "</div>"
      ],
      "text/plain": [
       "                ep  x-axis  y-axis  z-axis  xg-axis  yg-axis  zg-axis\n",
       "0     1.574147e+12  0.1182 -0.0387  0.0507  -2.3171  -2.6220   0.3659\n",
       "1     1.574147e+12  0.1204 -0.0432  0.0462  -5.4878  -8.1707  -0.3049\n",
       "2     1.574147e+12  0.1194 -0.0455  0.0406  -7.9878 -15.1220  -0.2439\n",
       "3     1.574147e+12  0.1161 -0.0449  0.0385  -9.8780 -24.9390   0.2439\n",
       "4     1.574147e+12  0.1133 -0.0428  0.0389 -12.1951 -36.5244  -0.8537\n",
       "...            ...     ...     ...     ...      ...      ...      ...\n",
       "1352  1.574147e+12  0.0840 -0.0642  0.0568 -36.4634  26.3415 -30.4878\n",
       "1353  1.574147e+12  0.0720 -0.0662  0.0507 -37.1341  25.3049 -38.6585\n",
       "1354  1.574147e+12  0.0619 -0.0633  0.0438 -37.9878  16.8902 -45.1220\n",
       "1355  1.574147e+12  0.0715 -0.0527  0.0441 -34.5732  12.5000 -51.0976\n",
       "1356  1.574147e+12  0.0916 -0.0512  0.0505 -30.3049   7.4390 -48.5976\n",
       "\n",
       "[1357 rows x 7 columns]"
      ]
     },
     "execution_count": 33,
     "metadata": {},
     "output_type": "execute_result"
    }
   ],
   "source": [
    "columns1=['ep','x-axis', 'y-axis' ,'z-axis' ,'xg-axis' ,'yg-axis' ,'zg-axis']\n",
    "test = pd.read_csv('Sample10sub_act2.csv', header = None, names = columns1,skiprows=1)\n",
    "test"
   ]
  },
  {
   "cell_type": "code",
   "execution_count": 34,
   "metadata": {},
   "outputs": [],
   "source": [
    "test['activity']=1"
   ]
  },
  {
   "cell_type": "code",
   "execution_count": 35,
   "metadata": {},
   "outputs": [
    {
     "data": {
      "text/html": [
       "<div>\n",
       "<style scoped>\n",
       "    .dataframe tbody tr th:only-of-type {\n",
       "        vertical-align: middle;\n",
       "    }\n",
       "\n",
       "    .dataframe tbody tr th {\n",
       "        vertical-align: top;\n",
       "    }\n",
       "\n",
       "    .dataframe thead th {\n",
       "        text-align: right;\n",
       "    }\n",
       "</style>\n",
       "<table border=\"1\" class=\"dataframe\">\n",
       "  <thead>\n",
       "    <tr style=\"text-align: right;\">\n",
       "      <th></th>\n",
       "      <th>ep</th>\n",
       "      <th>x-axis</th>\n",
       "      <th>y-axis</th>\n",
       "      <th>z-axis</th>\n",
       "      <th>xg-axis</th>\n",
       "      <th>yg-axis</th>\n",
       "      <th>zg-axis</th>\n",
       "      <th>activity</th>\n",
       "    </tr>\n",
       "  </thead>\n",
       "  <tbody>\n",
       "    <tr>\n",
       "      <th>0</th>\n",
       "      <td>1.574147e+12</td>\n",
       "      <td>0.1182</td>\n",
       "      <td>-0.0387</td>\n",
       "      <td>0.0507</td>\n",
       "      <td>-2.3171</td>\n",
       "      <td>-2.6220</td>\n",
       "      <td>0.3659</td>\n",
       "      <td>1</td>\n",
       "    </tr>\n",
       "    <tr>\n",
       "      <th>1</th>\n",
       "      <td>1.574147e+12</td>\n",
       "      <td>0.1204</td>\n",
       "      <td>-0.0432</td>\n",
       "      <td>0.0462</td>\n",
       "      <td>-5.4878</td>\n",
       "      <td>-8.1707</td>\n",
       "      <td>-0.3049</td>\n",
       "      <td>1</td>\n",
       "    </tr>\n",
       "    <tr>\n",
       "      <th>2</th>\n",
       "      <td>1.574147e+12</td>\n",
       "      <td>0.1194</td>\n",
       "      <td>-0.0455</td>\n",
       "      <td>0.0406</td>\n",
       "      <td>-7.9878</td>\n",
       "      <td>-15.1220</td>\n",
       "      <td>-0.2439</td>\n",
       "      <td>1</td>\n",
       "    </tr>\n",
       "    <tr>\n",
       "      <th>3</th>\n",
       "      <td>1.574147e+12</td>\n",
       "      <td>0.1161</td>\n",
       "      <td>-0.0449</td>\n",
       "      <td>0.0385</td>\n",
       "      <td>-9.8780</td>\n",
       "      <td>-24.9390</td>\n",
       "      <td>0.2439</td>\n",
       "      <td>1</td>\n",
       "    </tr>\n",
       "    <tr>\n",
       "      <th>4</th>\n",
       "      <td>1.574147e+12</td>\n",
       "      <td>0.1133</td>\n",
       "      <td>-0.0428</td>\n",
       "      <td>0.0389</td>\n",
       "      <td>-12.1951</td>\n",
       "      <td>-36.5244</td>\n",
       "      <td>-0.8537</td>\n",
       "      <td>1</td>\n",
       "    </tr>\n",
       "    <tr>\n",
       "      <th>...</th>\n",
       "      <td>...</td>\n",
       "      <td>...</td>\n",
       "      <td>...</td>\n",
       "      <td>...</td>\n",
       "      <td>...</td>\n",
       "      <td>...</td>\n",
       "      <td>...</td>\n",
       "      <td>...</td>\n",
       "    </tr>\n",
       "    <tr>\n",
       "      <th>1352</th>\n",
       "      <td>1.574147e+12</td>\n",
       "      <td>0.0840</td>\n",
       "      <td>-0.0642</td>\n",
       "      <td>0.0568</td>\n",
       "      <td>-36.4634</td>\n",
       "      <td>26.3415</td>\n",
       "      <td>-30.4878</td>\n",
       "      <td>1</td>\n",
       "    </tr>\n",
       "    <tr>\n",
       "      <th>1353</th>\n",
       "      <td>1.574147e+12</td>\n",
       "      <td>0.0720</td>\n",
       "      <td>-0.0662</td>\n",
       "      <td>0.0507</td>\n",
       "      <td>-37.1341</td>\n",
       "      <td>25.3049</td>\n",
       "      <td>-38.6585</td>\n",
       "      <td>1</td>\n",
       "    </tr>\n",
       "    <tr>\n",
       "      <th>1354</th>\n",
       "      <td>1.574147e+12</td>\n",
       "      <td>0.0619</td>\n",
       "      <td>-0.0633</td>\n",
       "      <td>0.0438</td>\n",
       "      <td>-37.9878</td>\n",
       "      <td>16.8902</td>\n",
       "      <td>-45.1220</td>\n",
       "      <td>1</td>\n",
       "    </tr>\n",
       "    <tr>\n",
       "      <th>1355</th>\n",
       "      <td>1.574147e+12</td>\n",
       "      <td>0.0715</td>\n",
       "      <td>-0.0527</td>\n",
       "      <td>0.0441</td>\n",
       "      <td>-34.5732</td>\n",
       "      <td>12.5000</td>\n",
       "      <td>-51.0976</td>\n",
       "      <td>1</td>\n",
       "    </tr>\n",
       "    <tr>\n",
       "      <th>1356</th>\n",
       "      <td>1.574147e+12</td>\n",
       "      <td>0.0916</td>\n",
       "      <td>-0.0512</td>\n",
       "      <td>0.0505</td>\n",
       "      <td>-30.3049</td>\n",
       "      <td>7.4390</td>\n",
       "      <td>-48.5976</td>\n",
       "      <td>1</td>\n",
       "    </tr>\n",
       "  </tbody>\n",
       "</table>\n",
       "<p>1357 rows × 8 columns</p>\n",
       "</div>"
      ],
      "text/plain": [
       "                ep  x-axis  y-axis  z-axis  xg-axis  yg-axis  zg-axis  \\\n",
       "0     1.574147e+12  0.1182 -0.0387  0.0507  -2.3171  -2.6220   0.3659   \n",
       "1     1.574147e+12  0.1204 -0.0432  0.0462  -5.4878  -8.1707  -0.3049   \n",
       "2     1.574147e+12  0.1194 -0.0455  0.0406  -7.9878 -15.1220  -0.2439   \n",
       "3     1.574147e+12  0.1161 -0.0449  0.0385  -9.8780 -24.9390   0.2439   \n",
       "4     1.574147e+12  0.1133 -0.0428  0.0389 -12.1951 -36.5244  -0.8537   \n",
       "...            ...     ...     ...     ...      ...      ...      ...   \n",
       "1352  1.574147e+12  0.0840 -0.0642  0.0568 -36.4634  26.3415 -30.4878   \n",
       "1353  1.574147e+12  0.0720 -0.0662  0.0507 -37.1341  25.3049 -38.6585   \n",
       "1354  1.574147e+12  0.0619 -0.0633  0.0438 -37.9878  16.8902 -45.1220   \n",
       "1355  1.574147e+12  0.0715 -0.0527  0.0441 -34.5732  12.5000 -51.0976   \n",
       "1356  1.574147e+12  0.0916 -0.0512  0.0505 -30.3049   7.4390 -48.5976   \n",
       "\n",
       "      activity  \n",
       "0            1  \n",
       "1            1  \n",
       "2            1  \n",
       "3            1  \n",
       "4            1  \n",
       "...        ...  \n",
       "1352         1  \n",
       "1353         1  \n",
       "1354         1  \n",
       "1355         1  \n",
       "1356         1  \n",
       "\n",
       "[1357 rows x 8 columns]"
      ]
     },
     "execution_count": 35,
     "metadata": {},
     "output_type": "execute_result"
    }
   ],
   "source": [
    "test"
   ]
  },
  {
   "cell_type": "code",
   "execution_count": 36,
   "metadata": {},
   "outputs": [],
   "source": [
    "x_test1, y_test1 = data_reshaping(test)"
   ]
  },
  {
   "cell_type": "code",
   "execution_count": 37,
   "metadata": {},
   "outputs": [
    {
     "name": "stdout",
     "output_type": "stream",
     "text": [
      "INFO:tensorflow:Restoring parameters from ./checkpoint/activity_1.ckpt\n"
     ]
    }
   ],
   "source": [
    "with tf.Session() as sess:\n",
    "    init = tf.global_variables_initializer()\n",
    "    sess.run(init)\n",
    "    saver = tf.train.import_meta_graph(\"./checkpoint/activity_1.ckpt.meta\")\n",
    "    saver.restore(sess,tf.train.latest_checkpoint(\"./checkpoint\"))\n",
    "    predictions1= sess.run(pred_softmax, feed_dict={X: x_test1})\n",
    "    #predictions, acc_final, loss_final = sess.run([pred_softmax, a, feed_dict={X: X_test1, Y: y_test1})\n",
    "    sess.close()"
   ]
  },
  {
   "cell_type": "code",
   "execution_count": 38,
   "metadata": {},
   "outputs": [
    {
     "name": "stdout",
     "output_type": "stream",
     "text": [
      "9\n",
      "[1, 1, 1, 1, 1, 1, 1, 1, 1]\n"
     ]
    }
   ],
   "source": [
    "y_ls = list(y_test1)\n",
    "print(len(y_ls))\n",
    "print(y_ls)"
   ]
  },
  {
   "cell_type": "code",
   "execution_count": 39,
   "metadata": {},
   "outputs": [
    {
     "name": "stdout",
     "output_type": "stream",
     "text": [
      "9\n",
      "[1 1 2 1 1 2 1 1 1]\n"
     ]
    }
   ],
   "source": [
    "max_predictions1 = np.argmax(predictions1, axis=1) + 1\n",
    "print(len(list(max_predictions1)))\n",
    "print((max_predictions1))"
   ]
  },
  {
   "cell_type": "code",
   "execution_count": 40,
   "metadata": {},
   "outputs": [
    {
     "name": "stdout",
     "output_type": "stream",
     "text": [
      "[[7 2]\n",
      " [0 0]]\n",
      "77.77777777777777\n"
     ]
    }
   ],
   "source": [
    "\n",
    "a=confusion_matrix(y_ls, max_predictions1)\n",
    "print(a)\n",
    "accuracy = ((a[0][0])*100)/(len(max_predictions1))\n",
    "print(accuracy)"
   ]
  }
 ],
 "metadata": {
  "kernelspec": {
   "display_name": "Python 3",
   "language": "python",
   "name": "python3"
  },
  "language_info": {
   "codemirror_mode": {
    "name": "ipython",
    "version": 3
   },
   "file_extension": ".py",
   "mimetype": "text/x-python",
   "name": "python",
   "nbconvert_exporter": "python",
   "pygments_lexer": "ipython3",
   "version": "3.8.0"
  }
 },
 "nbformat": 4,
 "nbformat_minor": 2
}
