{
 "cells": [
  {
   "cell_type": "code",
   "execution_count": 38,
   "metadata": {},
   "outputs": [],
   "source": [
    "import pandas as pd\n",
    "import numpy as np\n",
    "import pickle\n",
    "import matplotlib.pyplot as plt\n",
    "from scipy import stats\n",
    "import tensorflow as tf\n",
    "import seaborn as sns\n",
    "from pylab import rcParams\n",
    "from sklearn import metrics\n",
    "from sklearn.model_selection import train_test_split\n",
    "\n",
    "%matplotlib inline\n",
    "\n",
    "#sns.set(style='whitegrid', palette='muted', font_scale=1.5)\n",
    "\n",
    "#rcParams['figure.figsize'] = 14, 8\n",
    "\n",
    "RANDOM_SEED = 42"
   ]
  },
  {
   "cell_type": "code",
   "execution_count": 2,
   "metadata": {},
   "outputs": [],
   "source": [
    "columns = ['x-axis', 'y-axis','z-axis','xg-axis', 'yg-axis','zg-axis','activity']\n",
    "df1 = pd.read_csv('raj_task.csv', header = None, names = columns)\n",
    "df2 = pd.read_csv('raj_task_1.csv', header = None, names = columns)\n",
    "df3 = pd.read_csv('raj_walking.csv', header = None, names = columns)\n",
    "df4 = pd.read_csv('raj_sitting.csv', header = None, names = columns)\n",
    "#df5 = pd.read_csv('dataset/new_action.csv', header = None, names = columns)\n",
    "df = pd.concat([df1, df2, df3,df4], ignore_index= True)\n",
    "#df  = df.iloc[1:]\n",
    "df = df.dropna()"
   ]
  },
  {
   "cell_type": "code",
   "execution_count": 3,
   "metadata": {},
   "outputs": [
    {
     "data": {
      "text/html": [
       "<div>\n",
       "<style scoped>\n",
       "    .dataframe tbody tr th:only-of-type {\n",
       "        vertical-align: middle;\n",
       "    }\n",
       "\n",
       "    .dataframe tbody tr th {\n",
       "        vertical-align: top;\n",
       "    }\n",
       "\n",
       "    .dataframe thead th {\n",
       "        text-align: right;\n",
       "    }\n",
       "</style>\n",
       "<table border=\"1\" class=\"dataframe\">\n",
       "  <thead>\n",
       "    <tr style=\"text-align: right;\">\n",
       "      <th></th>\n",
       "      <th>x-axis</th>\n",
       "      <th>y-axis</th>\n",
       "      <th>z-axis</th>\n",
       "      <th>xg-axis</th>\n",
       "      <th>yg-axis</th>\n",
       "      <th>zg-axis</th>\n",
       "      <th>activity</th>\n",
       "    </tr>\n",
       "  </thead>\n",
       "  <tbody>\n",
       "    <tr>\n",
       "      <th>0</th>\n",
       "      <td>-0.844</td>\n",
       "      <td>0.086</td>\n",
       "      <td>0.474</td>\n",
       "      <td>0.549</td>\n",
       "      <td>1.402</td>\n",
       "      <td>0.122</td>\n",
       "      <td>1</td>\n",
       "    </tr>\n",
       "    <tr>\n",
       "      <th>1</th>\n",
       "      <td>-0.837</td>\n",
       "      <td>0.081</td>\n",
       "      <td>0.485</td>\n",
       "      <td>0.000</td>\n",
       "      <td>0.854</td>\n",
       "      <td>0.244</td>\n",
       "      <td>1</td>\n",
       "    </tr>\n",
       "    <tr>\n",
       "      <th>2</th>\n",
       "      <td>-0.843</td>\n",
       "      <td>0.083</td>\n",
       "      <td>0.477</td>\n",
       "      <td>-0.244</td>\n",
       "      <td>-1.098</td>\n",
       "      <td>0.061</td>\n",
       "      <td>1</td>\n",
       "    </tr>\n",
       "    <tr>\n",
       "      <th>3</th>\n",
       "      <td>-0.842</td>\n",
       "      <td>0.083</td>\n",
       "      <td>0.475</td>\n",
       "      <td>0.061</td>\n",
       "      <td>-0.915</td>\n",
       "      <td>-0.122</td>\n",
       "      <td>1</td>\n",
       "    </tr>\n",
       "    <tr>\n",
       "      <th>4</th>\n",
       "      <td>-0.851</td>\n",
       "      <td>0.088</td>\n",
       "      <td>0.468</td>\n",
       "      <td>0.549</td>\n",
       "      <td>0.854</td>\n",
       "      <td>0.122</td>\n",
       "      <td>1</td>\n",
       "    </tr>\n",
       "  </tbody>\n",
       "</table>\n",
       "</div>"
      ],
      "text/plain": [
       "   x-axis  y-axis  z-axis  xg-axis  yg-axis  zg-axis  activity\n",
       "0  -0.844   0.086   0.474    0.549    1.402    0.122         1\n",
       "1  -0.837   0.081   0.485    0.000    0.854    0.244         1\n",
       "2  -0.843   0.083   0.477   -0.244   -1.098    0.061         1\n",
       "3  -0.842   0.083   0.475    0.061   -0.915   -0.122         1\n",
       "4  -0.851   0.088   0.468    0.549    0.854    0.122         1"
      ]
     },
     "execution_count": 3,
     "metadata": {},
     "output_type": "execute_result"
    }
   ],
   "source": [
    "df.head()"
   ]
  },
  {
   "cell_type": "code",
   "execution_count": 4,
   "metadata": {},
   "outputs": [
    {
     "data": {
      "text/plain": [
       "(31522, 7)"
      ]
     },
     "execution_count": 4,
     "metadata": {},
     "output_type": "execute_result"
    }
   ],
   "source": [
    "df.shape"
   ]
  },
  {
   "cell_type": "code",
   "execution_count": 5,
   "metadata": {},
   "outputs": [
    {
     "data": {
      "image/png": "[encoded data removed]",
      "text/plain": [
       "<Figure size 432x288 with 1 Axes>"
      ]
     },
     "metadata": {
      "needs_background": "light"
     },
     "output_type": "display_data"
    }
   ],
   "source": [
    "df['activity'].value_counts().plot(kind='bar', title='Training examples by activity type');"
   ]
  },
  {
   "cell_type": "code",
   "execution_count": 6,
   "metadata": {},
   "outputs": [],
   "source": [
    "N_TIME_STEPS = 200\n",
    "N_FEATURES = 6\n",
    "step = 20\n",
    "segments = []\n",
    "labels = []\n",
    "for i in range(0, len(df) - N_TIME_STEPS, step):\n",
    "    xs = df['x-axis'].values[i: i + N_TIME_STEPS]\n",
    "    ys = df['y-axis'].values[i: i + N_TIME_STEPS]\n",
    "    zs = df['z-axis'].values[i: i + N_TIME_STEPS]\n",
    "    xsg = df['xg-axis'].values[i: i + N_TIME_STEPS]\n",
    "    ysg = df['yg-axis'].values[i: i + N_TIME_STEPS]\n",
    "    zsg = df['zg-axis'].values[i: i + N_TIME_STEPS]\n",
    "    label = stats.mode(df['activity'][i: i + N_TIME_STEPS])[0][0]\n",
    "    #print label\n",
    "    segments.append([xs, ys, zs, xsg, ysg, zsg])\n",
    "    labels.append(label)\n",
    "    #print labels"
   ]
  },
  {
   "cell_type": "code",
   "execution_count": 7,
   "metadata": {},
   "outputs": [],
   "source": [
    "reshaped_segments = np.asarray(segments, dtype= np.float32).reshape(-1, N_TIME_STEPS, N_FEATURES)\n",
    "labels = np.asarray(pd.get_dummies(labels), dtype = np.float32)"
   ]
  },
  {
   "cell_type": "code",
   "execution_count": 8,
   "metadata": {},
   "outputs": [
    {
     "data": {
      "text/plain": [
       "(1567, 200, 6)"
      ]
     },
     "execution_count": 8,
     "metadata": {},
     "output_type": "execute_result"
    }
   ],
   "source": [
    "reshaped_segments.shape"
   ]
  },
  {
   "cell_type": "code",
   "execution_count": 9,
   "metadata": {},
   "outputs": [],
   "source": [
    "X_train, X_test, y_train, y_test = train_test_split(\n",
    "        reshaped_segments, labels, test_size=0.2, random_state=RANDOM_SEED)"
   ]
  },
  {
   "cell_type": "code",
   "execution_count": 10,
   "metadata": {},
   "outputs": [
    {
     "data": {
      "text/plain": [
       "(1253, 200, 6)"
      ]
     },
     "execution_count": 10,
     "metadata": {},
     "output_type": "execute_result"
    }
   ],
   "source": [
    "X_train.shape"
   ]
  },
  {
   "cell_type": "code",
   "execution_count": 11,
   "metadata": {},
   "outputs": [
    {
     "data": {
      "text/plain": [
       "(314, 200, 6)"
      ]
     },
     "execution_count": 11,
     "metadata": {},
     "output_type": "execute_result"
    }
   ],
   "source": [
    "X_test.shape"
   ]
  },
  {
   "cell_type": "code",
   "execution_count": 12,
   "metadata": {},
   "outputs": [],
   "source": [
    "N_CLASSES = 3\n",
    "N_HIDDEN_UNITS = 64"
   ]
  },
  {
   "cell_type": "code",
   "execution_count": 13,
   "metadata": {},
   "outputs": [],
   "source": [
    "def create_LSTM_model(inputs):\n",
    "    W = {\n",
    "        'hidden': tf.Variable(tf.random_normal([N_FEATURES, N_HIDDEN_UNITS])),\n",
    "        'output': tf.Variable(tf.random_normal([N_HIDDEN_UNITS, N_CLASSES]))\n",
    "    }\n",
    "    biases = {\n",
    "        'hidden': tf.Variable(tf.random_normal([N_HIDDEN_UNITS], mean=1.0)),\n",
    "        'output': tf.Variable(tf.random_normal([N_CLASSES]))\n",
    "    }\n",
    "    \n",
    "    X = tf.transpose(inputs, [1, 0, 2])\n",
    "    X = tf.reshape(X, [-1, N_FEATURES])\n",
    "    hidden = tf.nn.relu(tf.matmul(X, W['hidden']) + biases['hidden'])\n",
    "    hidden = tf.split(hidden, N_TIME_STEPS, 0)\n",
    "\n",
    "    # Stack 2 LSTM layers\n",
    "    lstm_layers = [tf.contrib.rnn.BasicLSTMCell(N_HIDDEN_UNITS, forget_bias=1.0) for _ in range(2)]\n",
    "    lstm_layers = tf.contrib.rnn.MultiRNNCell(lstm_layers)\n",
    "\n",
    "    outputs, _ = tf.contrib.rnn.static_rnn(lstm_layers, hidden, dtype=tf.float32)\n",
    "\n",
    "    # Get output for the last time step\n",
    "    lstm_last_output = outputs[-1]\n",
    "\n",
    "    return tf.matmul(lstm_last_output, W['output']) + biases['output']"
   ]
  },
  {
   "cell_type": "code",
   "execution_count": 14,
   "metadata": {},
   "outputs": [],
   "source": [
    "\n",
    "#tf.reset_default_graph()\n",
    "\n",
    "X = tf.placeholder(tf.float32, [None, N_TIME_STEPS, N_FEATURES], name=\"input\")\n",
    "Y = tf.placeholder(tf.float32, [None, N_CLASSES])"
   ]
  },
  {
   "cell_type": "code",
   "execution_count": 15,
   "metadata": {},
   "outputs": [
    {
     "name": "stderr",
     "output_type": "stream",
     "text": [
      "WARNING: Logging before flag parsing goes to stderr.\n",
      "W0903 14:24:33.241786 140736697336768 lazy_loader.py:50] \n",
      "The TensorFlow contrib module will not be included in TensorFlow 2.0.\n",
      "For more information, please see:\n",
      "  * https://github.com/tensorflow/community/blob/master/rfcs/20180907-contrib-sunset.md\n",
      "  * https://github.com/tensorflow/addons\n",
      "  * https://github.com/tensorflow/io (for I/O related ops)\n",
      "If you depend on functionality not listed there, please file an issue.\n",
      "\n",
      "W0903 14:24:33.244714 140736697336768 deprecation.py:323] From <ipython-input-13-c8ae7df74e6e>:17: BasicLSTMCell.__init__ (from tensorflow.python.ops.rnn_cell_impl) is deprecated and will be removed in a future version.\n",
      "Instructions for updating:\n",
      "This class is equivalent as tf.keras.layers.LSTMCell, and will be replaced by that in Tensorflow 2.0.\n",
      "W0903 14:24:33.251758 140736697336768 deprecation.py:323] From <ipython-input-13-c8ae7df74e6e>:18: MultiRNNCell.__init__ (from tensorflow.python.ops.rnn_cell_impl) is deprecated and will be removed in a future version.\n",
      "Instructions for updating:\n",
      "This class is equivalent as tf.keras.layers.StackedRNNCells, and will be replaced by that in Tensorflow 2.0.\n",
      "W0903 14:24:33.257882 140736697336768 deprecation.py:323] From <ipython-input-13-c8ae7df74e6e>:20: static_rnn (from tensorflow.python.ops.rnn) is deprecated and will be removed in a future version.\n",
      "Instructions for updating:\n",
      "Please use `keras.layers.RNN(cell, unroll=True)`, which is equivalent to this API\n",
      "W0903 14:24:34.310396 140736697336768 deprecation.py:506] From /usr/local/lib/python3.7/site-packages/tensorflow/python/ops/init_ops.py:1251: calling VarianceScaling.__init__ (from tensorflow.python.ops.init_ops) with dtype is deprecated and will be removed in a future version.\n",
      "Instructions for updating:\n",
      "Call initializer instance with the dtype argument instead of passing it to the constructor\n",
      "W0903 14:24:34.346504 140736697336768 deprecation.py:506] From /usr/local/lib/python3.7/site-packages/tensorflow/python/ops/rnn_cell_impl.py:738: calling Zeros.__init__ (from tensorflow.python.ops.init_ops) with dtype is deprecated and will be removed in a future version.\n",
      "Instructions for updating:\n",
      "Call initializer instance with the dtype argument instead of passing it to the constructor\n"
     ]
    }
   ],
   "source": [
    "pred_Y = create_LSTM_model(X)\n",
    "\n",
    "pred_softmax = tf.nn.softmax(pred_Y, name=\"y_\")"
   ]
  },
  {
   "cell_type": "code",
   "execution_count": 16,
   "metadata": {},
   "outputs": [
    {
     "name": "stderr",
     "output_type": "stream",
     "text": [
      "W0903 14:24:52.806832 140736697336768 deprecation.py:323] From <ipython-input-16-4720b2143aa0>:6: softmax_cross_entropy_with_logits (from tensorflow.python.ops.nn_ops) is deprecated and will be removed in a future version.\n",
      "Instructions for updating:\n",
      "\n",
      "Future major versions of TensorFlow will allow gradients to flow\n",
      "into the labels input on backprop by default.\n",
      "\n",
      "See `tf.nn.softmax_cross_entropy_with_logits_v2`.\n",
      "\n"
     ]
    }
   ],
   "source": [
    "L2_LOSS = 0.0015\n",
    "\n",
    "l2 = L2_LOSS * \\\n",
    "    sum(tf.nn.l2_loss(tf_var) for tf_var in tf.trainable_variables())\n",
    "\n",
    "loss = tf.reduce_mean(tf.nn.softmax_cross_entropy_with_logits(logits = pred_Y, labels = Y)) + l2"
   ]
  },
  {
   "cell_type": "code",
   "execution_count": 17,
   "metadata": {},
   "outputs": [],
   "source": [
    "LEARNING_RATE = 0.0025\n",
    "\n",
    "optimizer = tf.train.AdamOptimizer(learning_rate=LEARNING_RATE).minimize(loss)\n",
    "\n",
    "correct_pred = tf.equal(tf.argmax(pred_softmax, 1), tf.argmax(Y, 1))\n",
    "accuracy = tf.reduce_mean(tf.cast(correct_pred, dtype=tf.float32))"
   ]
  },
  {
   "cell_type": "code",
   "execution_count": 18,
   "metadata": {},
   "outputs": [],
   "source": [
    "N_EPOCHS = 20\n",
    "BATCH_SIZE = 128"
   ]
  },
  {
   "cell_type": "code",
   "execution_count": 19,
   "metadata": {},
   "outputs": [
    {
     "name": "stdout",
     "output_type": "stream",
     "text": [
      "epoch 1:  test accuracy: 0.96178347 loss:0.9391034\n",
      "epoch 2:  test accuracy: 0.9872612 loss:0.8125315\n",
      "epoch 3:  test accuracy: 0.9872612 loss:0.77380013\n",
      "epoch 4:  test accuracy: 0.9872612 loss:0.7591724\n",
      "epoch 5:  test accuracy: 0.97133756 loss:0.761183\n",
      "epoch 6:  test accuracy: 0.97133756 loss:0.7540523\n",
      "epoch 7:  test accuracy: 0.99044585 loss:0.712407\n",
      "epoch 8:  test accuracy: 0.9936306 loss:0.6804439\n",
      "epoch 9:  test accuracy: 0.99681526 loss:0.6655007\n",
      "epoch 10:  test accuracy: 0.99681526 loss:0.6458861\n",
      "epoch 11:  test accuracy: 0.99681526 loss:0.6309349\n",
      "epoch 12:  test accuracy: 0.99681526 loss:0.6180316\n",
      "epoch 13:  test accuracy: 0.99681526 loss:0.6052035\n",
      "epoch 14:  test accuracy: 0.9936306 loss:0.60484594\n",
      "epoch 15:  test accuracy: 0.99681526 loss:0.5851794\n",
      "epoch 16:  test accuracy: 0.99681526 loss:0.5757396\n",
      "epoch 17:  test accuracy: 0.99681526 loss:0.5658289\n",
      "epoch 18:  test accuracy: 0.9936306 loss:0.55673087\n",
      "epoch 19:  test accuracy: 0.9936306 loss:0.5445277\n",
      "epoch 20:  test accuracy: 0.9936306 loss:0.5347267\n",
      "final results: accuracy:   0.9936306\tloss:  0.5347267\n"
     ]
    }
   ],
   "source": [
    "saver = tf.train.Saver()\n",
    "\n",
    "history = dict(train_loss=[], \n",
    "                     train_acc=[], \n",
    "                     test_loss=[], \n",
    "                     test_acc=[])\n",
    "\n",
    "sess=tf.InteractiveSession()\n",
    "sess.run(tf.global_variables_initializer())\n",
    "\n",
    "train_count = len(X_train)\n",
    "\n",
    "for i in range(1, N_EPOCHS + 1):\n",
    "    for start, end in zip(range(0, train_count, BATCH_SIZE),\n",
    "                          range(BATCH_SIZE, train_count + 1,BATCH_SIZE)):\n",
    "        sess.run(optimizer, feed_dict={X: X_train[start:end],\n",
    "                                       Y: y_train[start:end]})\n",
    "\n",
    "    _, acc_train, loss_train = sess.run([pred_softmax, accuracy, loss], feed_dict={\n",
    "                                            X: X_train, Y: y_train})\n",
    "\n",
    "    _, acc_test, loss_test = sess.run([pred_softmax, accuracy, loss], feed_dict={\n",
    "                                            X: X_test, Y: y_test})\n",
    "\n",
    "    history['train_loss'].append(loss_train)\n",
    "    history['train_acc'].append(acc_train)\n",
    "    history['test_loss'].append(loss_test)\n",
    "    history['test_acc'].append(acc_test)\n",
    "\n",
    "    #if i != 1 and i % 10 != 0:\n",
    "        #continue\n",
    "\n",
    "    print(\"epoch \" + str(i) + \":  \"+ \"test accuracy:\" + \" \" + str(acc_test) + \" \" + \"loss:\" + str(loss_test))\n",
    "    \n",
    "predictions, acc_final, loss_final = sess.run([pred_softmax, accuracy, loss], feed_dict={X: X_test, Y: y_test})\n",
    "\n",
    "#print()\n",
    "print(\"final results: accuracy:   \" + str(acc_final) + \"\\t\" +  \"loss:  \" +str(loss_final))"
   ]
  },
  {
   "cell_type": "code",
   "execution_count": 20,
   "metadata": {},
   "outputs": [],
   "source": [
    "pickle.dump(predictions, open(\"predictions.p\", \"wb\"))\n",
    "pickle.dump(history, open(\"history.p\", \"wb\"))\n",
    "tf.train.write_graph(sess.graph_def, '.', './checkpoint/activity.pbtxt')  \n",
    "saver.save(sess, save_path = \"./checkpoint/activity.ckpt\")\n",
    "sess.close()"
   ]
  },
  {
   "cell_type": "code",
   "execution_count": 21,
   "metadata": {},
   "outputs": [],
   "source": [
    "history = pickle.load(open(\"history.p\", \"rb\"))\n",
    "predictions = pickle.load(open(\"predictions.p\", \"rb\"))"
   ]
  },
  {
   "cell_type": "code",
   "execution_count": 22,
   "metadata": {},
   "outputs": [
    {
     "data": {
      "image/png": "[encoded data removed]",
      "text/plain": [
       "<Figure size 864x576 with 1 Axes>"
      ]
     },
     "metadata": {
      "needs_background": "light"
     },
     "output_type": "display_data"
    }
   ],
   "source": [
    "plt.figure(figsize=(12, 8))\n",
    "\n",
    "plt.plot(np.array(history['train_loss']), \"r--\", label=\"Train loss\")\n",
    "plt.plot(np.array(history['train_acc']), \"g--\", label=\"Train accuracy\")\n",
    "\n",
    "plt.plot(np.array(history['test_loss']), \"r-\", label=\"Test loss\")\n",
    "plt.plot(np.array(history['test_acc']), \"g-\", label=\"Test accuracy\")\n",
    "\n",
    "plt.title(\"Training session's progress over iterations\")\n",
    "plt.legend(loc='upper right', shadow=True)\n",
    "plt.ylabel('Training Progress (Loss or Accuracy values)')\n",
    "plt.xlabel('Training Epoch')\n",
    "plt.ylim(0)\n",
    "\n",
    "plt.show()"
   ]
  },
  {
   "cell_type": "code",
   "execution_count": 25,
   "metadata": {},
   "outputs": [],
   "source": [
    "#activity\n",
    "LABELS = ['task1','walking','sitting']"
   ]
  },
  {
   "cell_type": "code",
   "execution_count": 61,
   "metadata": {},
   "outputs": [],
   "source": [
    "from sklearn.metrics import confusion_matrix \n",
    "from sklearn.metrics import accuracy_score \n",
    "from sklearn.metrics import classification_report"
   ]
  },
  {
   "cell_type": "code",
   "execution_count": 51,
   "metadata": {},
   "outputs": [],
   "source": [
    "#max_test = np.argmax(y_test, axis=1)\n",
    "#ls = list(max_test)\n",
    "#ls\n"
   ]
  },
  {
   "cell_type": "code",
   "execution_count": 62,
   "metadata": {},
   "outputs": [
    {
     "name": "stdout",
     "output_type": "stream",
     "text": [
      "[0, 0, 0, 0, 0, 2, 0, 1, 0, 0, 2, 0, 0, 2, 2, 0, 0, 0, 1, 2, 2, 2, 0, 0, 0, 2, 0, 0, 0, 0, 0, 2, 0, 0, 0, 2, 2, 0, 2, 0, 0, 0, 1, 0, 2, 2, 0, 2, 0, 0, 1, 0, 0, 0, 0, 2, 0, 0, 0, 0, 0, 0, 0, 1, 2, 1, 0, 1, 1, 2, 1, 1, 0, 0, 0, 1, 0, 2, 1, 0, 0, 0, 2, 0, 0, 2, 2, 0, 0, 1, 0, 2, 2, 0, 0, 0, 0, 0, 1, 2, 0, 1, 0, 0, 1, 0, 0, 0, 1, 2, 0, 0, 1, 2, 2, 0, 0, 0, 1, 1, 2, 0, 0, 2, 0, 0, 2, 0, 1, 0, 1, 0, 0, 0, 1, 2, 1, 0, 0, 2, 2, 2, 0, 2, 0, 0, 2, 2, 2, 0, 1, 0, 0, 1, 2, 0, 0, 1, 2, 2, 0, 0, 1, 1, 0, 0, 0, 0, 2, 0, 2, 2, 1, 0, 2, 0, 2, 0, 0, 2, 1, 0, 0, 1, 0, 0, 0, 0, 0, 0, 1, 0, 0, 0, 0, 1, 1, 1, 2, 2, 2, 2, 1, 2, 0, 0, 0, 0, 0, 0, 2, 0, 0, 2, 2, 1, 0, 0, 1, 2, 0, 2, 1, 0, 2, 0, 2, 0, 0, 1, 0, 0, 0, 0, 1, 1, 1, 2, 0, 0, 0, 0, 2, 2, 2, 0, 0, 2, 0, 2, 2, 0, 2, 2, 0, 1, 2, 0, 0, 1, 1, 0, 2, 2, 0, 2, 1, 0, 2, 0, 1, 0, 2, 1, 1, 2, 0, 2, 0, 0, 0, 0, 2, 0, 0, 1, 2, 0, 2, 0, 1, 2, 1, 0, 2, 2, 0, 2, 0, 0, 0, 2, 1, 0, 2, 1, 0, 0, 2, 2, 2, 2, 1, 0]\n",
      "<class 'list'>\n",
      "[0, 0, 0, 0, 0, 2, 0, 1, 0, 0, 2, 0, 0, 2, 2, 0, 0, 0, 1, 2, 2, 2, 0, 0, 0, 2, 0, 0, 0, 0, 0, 2, 0, 0, 0, 2, 2, 0, 2, 0, 1, 0, 1, 0, 2, 2, 0, 2, 0, 0, 1, 0, 0, 0, 0, 2, 0, 0, 0, 0, 0, 0, 0, 1, 2, 1, 0, 1, 1, 2, 1, 2, 0, 0, 0, 1, 0, 2, 1, 0, 0, 0, 2, 0, 0, 2, 2, 0, 0, 1, 0, 2, 2, 0, 0, 0, 0, 0, 1, 2, 0, 1, 0, 0, 1, 0, 0, 0, 1, 2, 0, 0, 1, 2, 2, 0, 0, 0, 1, 1, 2, 0, 0, 2, 0, 0, 2, 0, 1, 0, 1, 0, 0, 0, 1, 2, 1, 0, 0, 2, 2, 2, 0, 2, 0, 0, 2, 2, 2, 0, 1, 0, 0, 1, 2, 0, 0, 1, 2, 2, 0, 0, 1, 1, 0, 0, 0, 0, 2, 0, 2, 2, 1, 0, 2, 0, 2, 0, 0, 2, 1, 0, 0, 1, 0, 0, 0, 0, 0, 0, 1, 0, 0, 0, 0, 1, 1, 1, 2, 2, 2, 2, 1, 2, 0, 0, 0, 0, 0, 0, 2, 0, 0, 2, 2, 1, 0, 0, 1, 2, 0, 2, 1, 0, 2, 0, 2, 0, 0, 1, 0, 0, 0, 0, 1, 1, 1, 2, 0, 0, 0, 0, 2, 2, 2, 0, 0, 2, 0, 2, 2, 0, 2, 2, 0, 1, 2, 0, 0, 1, 1, 0, 2, 2, 0, 2, 1, 0, 2, 0, 1, 0, 2, 1, 1, 2, 0, 2, 0, 0, 0, 0, 2, 0, 0, 1, 2, 0, 2, 0, 1, 2, 1, 0, 2, 2, 0, 2, 0, 0, 0, 2, 1, 0, 2, 1, 0, 0, 2, 2, 2, 2, 1, 0]\n"
     ]
    },
    {
     "data": {
      "text/plain": [
       "array([[166,   1,   0],\n",
       "       [  0,  56,   1],\n",
       "       [  0,   0,  90]])"
      ]
     },
     "execution_count": 62,
     "metadata": {},
     "output_type": "execute_result"
    }
   ],
   "source": [
    "max_test = np.argmax(y_test, axis=1)\n",
    "max_predictions = np.argmax(predictions, axis=1)\n",
    "\n",
    "max_test1 = max_test.tolist()\n",
    "print (max_test1)\n",
    "print (type(max_test1))\n",
    "max_predictions1 = max_predictions.tolist()\n",
    "print(max_predictions1)\n",
    "\n",
    "confusion_matrix(max_test1, max_predictions1)\n"
   ]
  },
  {
   "cell_type": "code",
   "execution_count": null,
   "metadata": {},
   "outputs": [],
   "source": []
  }
 ],
 "metadata": {
  "kernelspec": {
   "display_name": "Python 3",
   "language": "python",
   "name": "python3"
  },
  "language_info": {
   "codemirror_mode": {
    "name": "ipython",
    "version": 3
   },
   "file_extension": ".py",
   "mimetype": "text/x-python",
   "name": "python",
   "nbconvert_exporter": "python",
   "pygments_lexer": "ipython3",
   "version": "3.7.3"
  }
 },
 "nbformat": 4,
 "nbformat_minor": 2
}
