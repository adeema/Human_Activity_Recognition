{
 "cells": [
  {
   "cell_type": "code",
   "execution_count": 1,
   "metadata": {},
   "outputs": [],
   "source": [
    "import pandas as pd"
   ]
  },
  {
   "cell_type": "code",
   "execution_count": 2,
   "metadata": {},
   "outputs": [],
   "source": [
    "columns1 = ['ep','time', 'elapsed','x-axis','y-axis', 'z-axis']\n",
    "columns2 = ['ep1','time1', 'elapsed1','x-axis_g','y-axis_g', 'z-axis_g']"
   ]
  },
  {
   "cell_type": "code",
   "execution_count": 3,
   "metadata": {},
   "outputs": [],
   "source": [
    "df1 = pd.read_csv('Rajneesh_test_Accelerometer.csv', header = None, names = columns1)\n",
    "df2 = pd.read_csv('Rajneesh_test_Gyroscope.csv', header = None, names = columns2)"
   ]
  },
  {
   "cell_type": "code",
   "execution_count": 6,
   "metadata": {},
   "outputs": [
    {
     "data": {
      "text/html": [
       "<div>\n",
       "<style scoped>\n",
       "    .dataframe tbody tr th:only-of-type {\n",
       "        vertical-align: middle;\n",
       "    }\n",
       "\n",
       "    .dataframe tbody tr th {\n",
       "        vertical-align: top;\n",
       "    }\n",
       "\n",
       "    .dataframe thead th {\n",
       "        text-align: right;\n",
       "    }\n",
       "</style>\n",
       "<table border=\"1\" class=\"dataframe\">\n",
       "  <thead>\n",
       "    <tr style=\"text-align: right;\">\n",
       "      <th></th>\n",
       "      <th>time</th>\n",
       "      <th>x-axis</th>\n",
       "      <th>y-axis</th>\n",
       "      <th>z-axis</th>\n",
       "      <th>x-axis_g</th>\n",
       "      <th>y-axis_g</th>\n",
       "      <th>z-axis_g</th>\n",
       "      <th>activity</th>\n",
       "    </tr>\n",
       "  </thead>\n",
       "  <tbody>\n",
       "    <tr>\n",
       "      <th>1</th>\n",
       "      <td>2019-09-12T02:35:31.884</td>\n",
       "      <td>-0.856</td>\n",
       "      <td>-0.124</td>\n",
       "      <td>0.454</td>\n",
       "      <td>-25.915</td>\n",
       "      <td>28.415</td>\n",
       "      <td>5.183</td>\n",
       "      <td>1</td>\n",
       "    </tr>\n",
       "    <tr>\n",
       "      <th>2</th>\n",
       "      <td>2019-09-12T02:35:31.884</td>\n",
       "      <td>-0.855</td>\n",
       "      <td>-0.126</td>\n",
       "      <td>0.450</td>\n",
       "      <td>-23.354</td>\n",
       "      <td>28.171</td>\n",
       "      <td>6.402</td>\n",
       "      <td>1</td>\n",
       "    </tr>\n",
       "    <tr>\n",
       "      <th>3</th>\n",
       "      <td>2019-09-12T02:35:31.884</td>\n",
       "      <td>-0.863</td>\n",
       "      <td>-0.126</td>\n",
       "      <td>0.440</td>\n",
       "      <td>-20.854</td>\n",
       "      <td>26.280</td>\n",
       "      <td>6.951</td>\n",
       "      <td>1</td>\n",
       "    </tr>\n",
       "    <tr>\n",
       "      <th>4</th>\n",
       "      <td>2019-09-12T02:35:31.953</td>\n",
       "      <td>-0.867</td>\n",
       "      <td>-0.131</td>\n",
       "      <td>0.437</td>\n",
       "      <td>-19.756</td>\n",
       "      <td>23.232</td>\n",
       "      <td>6.341</td>\n",
       "      <td>1</td>\n",
       "    </tr>\n",
       "    <tr>\n",
       "      <th>5</th>\n",
       "      <td>2019-09-12T02:35:31.953</td>\n",
       "      <td>-0.854</td>\n",
       "      <td>-0.139</td>\n",
       "      <td>0.437</td>\n",
       "      <td>-18.171</td>\n",
       "      <td>20.427</td>\n",
       "      <td>5.366</td>\n",
       "      <td>1</td>\n",
       "    </tr>\n",
       "  </tbody>\n",
       "</table>\n",
       "</div>"
      ],
      "text/plain": [
       "                      time  x-axis  y-axis z-axis x-axis_g y-axis_g z-axis_g  \\\n",
       "1  2019-09-12T02:35:31.884  -0.856  -0.124  0.454  -25.915   28.415    5.183   \n",
       "2  2019-09-12T02:35:31.884  -0.855  -0.126  0.450  -23.354   28.171    6.402   \n",
       "3  2019-09-12T02:35:31.884  -0.863  -0.126  0.440  -20.854   26.280    6.951   \n",
       "4  2019-09-12T02:35:31.953  -0.867  -0.131  0.437  -19.756   23.232    6.341   \n",
       "5  2019-09-12T02:35:31.953  -0.854  -0.139  0.437  -18.171   20.427    5.366   \n",
       "\n",
       "   activity  \n",
       "1         1  \n",
       "2         1  \n",
       "3         1  \n",
       "4         1  \n",
       "5         1  "
      ]
     },
     "execution_count": 6,
     "metadata": {},
     "output_type": "execute_result"
    }
   ],
   "source": [
    "df_test = pd.concat([df1,df2], axis =1)\n",
    "del df_test['ep']\n",
    "#del df_test['time']\n",
    "del df_test['elapsed']\n",
    "del df_test['ep1']\n",
    "del df_test['time1']\n",
    "del df_test['elapsed1']\n",
    "df_test = df_test.iloc[1:]\n",
    "df_test['activity'] = 1\n",
    "df_test.head()"
   ]
  },
  {
   "cell_type": "code",
   "execution_count": 7,
   "metadata": {},
   "outputs": [],
   "source": [
    "df_test.to_csv(r'test_raj_time.csv', header=False, index = False)"
   ]
  },
  {
   "cell_type": "code",
   "execution_count": null,
   "metadata": {},
   "outputs": [],
   "source": []
  }
 ],
 "metadata": {
  "kernelspec": {
   "display_name": "Python 3",
   "language": "python",
   "name": "python3"
  },
  "language_info": {
   "codemirror_mode": {
    "name": "ipython",
    "version": 3
   },
   "file_extension": ".py",
   "mimetype": "text/x-python",
   "name": "python",
   "nbconvert_exporter": "python",
   "pygments_lexer": "ipython3",
   "version": "3.6.8"
  }
 },
 "nbformat": 4,
 "nbformat_minor": 2
}
